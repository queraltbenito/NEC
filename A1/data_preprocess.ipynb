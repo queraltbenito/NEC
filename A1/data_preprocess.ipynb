{
  "nbformat": 4,
  "nbformat_minor": 0,
  "metadata": {
    "colab": {
      "provenance": []
    },
    "kernelspec": {
      "name": "python3",
      "display_name": "Python 3"
    },
    "language_info": {
      "name": "python"
    }
  },
  "cells": [
    {
      "cell_type": "code",
      "execution_count": 2,
      "metadata": {
        "id": "fYXlsmXNe5Tb"
      },
      "outputs": [],
      "source": [
        "import pandas as pd\n",
        "\n",
        "# Load CSV file\n",
        "df = pd.read_csv(\"co2.csv\")"
      ]
    },
    {
      "cell_type": "code",
      "source": [
        "print(df.head())  # First few rows\n",
        "print(df.info())  # Data types and missing values\n",
        "print(df.describe())  # Summary statistics\n",
        "print(df.isnull().sum())  # Count of missing values"
      ],
      "metadata": {
        "colab": {
          "base_uri": "https://localhost:8080/"
        },
        "id": "9-LPy8fse-2H",
        "outputId": "aa62e874-b8d9-48a5-c019-751351edb3fa"
      },
      "execution_count": 3,
      "outputs": [
        {
          "output_type": "stream",
          "name": "stdout",
          "text": [
            "    Make       Model Vehicle Class  Engine Size(L)  Cylinders Transmission  \\\n",
            "0  ACURA         ILX       COMPACT             2.0          4          AS5   \n",
            "1  ACURA         ILX       COMPACT             2.4          4           M6   \n",
            "2  ACURA  ILX HYBRID       COMPACT             1.5          4          AV7   \n",
            "3  ACURA     MDX 4WD   SUV - SMALL             3.5          6          AS6   \n",
            "4  ACURA     RDX AWD   SUV - SMALL             3.5          6          AS6   \n",
            "\n",
            "  Fuel Type  Fuel Consumption City (L/100 km)  \\\n",
            "0         Z                               9.9   \n",
            "1         Z                              11.2   \n",
            "2         Z                               6.0   \n",
            "3         Z                              12.7   \n",
            "4         Z                              12.1   \n",
            "\n",
            "   Fuel Consumption Hwy (L/100 km)  Fuel Consumption Comb (L/100 km)  \\\n",
            "0                              6.7                               8.5   \n",
            "1                              7.7                               9.6   \n",
            "2                              5.8                               5.9   \n",
            "3                              9.1                              11.1   \n",
            "4                              8.7                              10.6   \n",
            "\n",
            "   Fuel Consumption Comb (mpg)  CO2 Emissions(g/km)  \n",
            "0                           33                  196  \n",
            "1                           29                  221  \n",
            "2                           48                  136  \n",
            "3                           25                  255  \n",
            "4                           27                  244  \n",
            "<class 'pandas.core.frame.DataFrame'>\n",
            "RangeIndex: 7385 entries, 0 to 7384\n",
            "Data columns (total 12 columns):\n",
            " #   Column                            Non-Null Count  Dtype  \n",
            "---  ------                            --------------  -----  \n",
            " 0   Make                              7385 non-null   object \n",
            " 1   Model                             7385 non-null   object \n",
            " 2   Vehicle Class                     7385 non-null   object \n",
            " 3   Engine Size(L)                    7385 non-null   float64\n",
            " 4   Cylinders                         7385 non-null   int64  \n",
            " 5   Transmission                      7385 non-null   object \n",
            " 6   Fuel Type                         7385 non-null   object \n",
            " 7   Fuel Consumption City (L/100 km)  7385 non-null   float64\n",
            " 8   Fuel Consumption Hwy (L/100 km)   7385 non-null   float64\n",
            " 9   Fuel Consumption Comb (L/100 km)  7385 non-null   float64\n",
            " 10  Fuel Consumption Comb (mpg)       7385 non-null   int64  \n",
            " 11  CO2 Emissions(g/km)               7385 non-null   int64  \n",
            "dtypes: float64(4), int64(3), object(5)\n",
            "memory usage: 692.5+ KB\n",
            "None\n",
            "       Engine Size(L)    Cylinders  Fuel Consumption City (L/100 km)  \\\n",
            "count     7385.000000  7385.000000                       7385.000000   \n",
            "mean         3.160068     5.615030                         12.556534   \n",
            "std          1.354170     1.828307                          3.500274   \n",
            "min          0.900000     3.000000                          4.200000   \n",
            "25%          2.000000     4.000000                         10.100000   \n",
            "50%          3.000000     6.000000                         12.100000   \n",
            "75%          3.700000     6.000000                         14.600000   \n",
            "max          8.400000    16.000000                         30.600000   \n",
            "\n",
            "       Fuel Consumption Hwy (L/100 km)  Fuel Consumption Comb (L/100 km)  \\\n",
            "count                      7385.000000                       7385.000000   \n",
            "mean                          9.041706                         10.975071   \n",
            "std                           2.224456                          2.892506   \n",
            "min                           4.000000                          4.100000   \n",
            "25%                           7.500000                          8.900000   \n",
            "50%                           8.700000                         10.600000   \n",
            "75%                          10.200000                         12.600000   \n",
            "max                          20.600000                         26.100000   \n",
            "\n",
            "       Fuel Consumption Comb (mpg)  CO2 Emissions(g/km)  \n",
            "count                  7385.000000          7385.000000  \n",
            "mean                     27.481652           250.584699  \n",
            "std                       7.231879            58.512679  \n",
            "min                      11.000000            96.000000  \n",
            "25%                      22.000000           208.000000  \n",
            "50%                      27.000000           246.000000  \n",
            "75%                      32.000000           288.000000  \n",
            "max                      69.000000           522.000000  \n",
            "Make                                0\n",
            "Model                               0\n",
            "Vehicle Class                       0\n",
            "Engine Size(L)                      0\n",
            "Cylinders                           0\n",
            "Transmission                        0\n",
            "Fuel Type                           0\n",
            "Fuel Consumption City (L/100 km)    0\n",
            "Fuel Consumption Hwy (L/100 km)     0\n",
            "Fuel Consumption Comb (L/100 km)    0\n",
            "Fuel Consumption Comb (mpg)         0\n",
            "CO2 Emissions(g/km)                 0\n",
            "dtype: int64\n"
          ]
        }
      ]
    },
    {
      "cell_type": "code",
      "source": [
        "# Convert object columns to categorical\n",
        "object_columns = df.select_dtypes(include=['object']).columns\n",
        "df[object_columns] = df[object_columns].astype('category')\n",
        "print(df.info())"
      ],
      "metadata": {
        "colab": {
          "base_uri": "https://localhost:8080/"
        },
        "id": "aQi-H0qufDuV",
        "outputId": "7f5b8e8a-e71c-43f1-df7d-0258796790f2"
      },
      "execution_count": 5,
      "outputs": [
        {
          "output_type": "stream",
          "name": "stdout",
          "text": [
            "<class 'pandas.core.frame.DataFrame'>\n",
            "RangeIndex: 7385 entries, 0 to 7384\n",
            "Data columns (total 12 columns):\n",
            " #   Column                            Non-Null Count  Dtype   \n",
            "---  ------                            --------------  -----   \n",
            " 0   Make                              7385 non-null   category\n",
            " 1   Model                             7385 non-null   category\n",
            " 2   Vehicle Class                     7385 non-null   category\n",
            " 3   Engine Size(L)                    7385 non-null   float64 \n",
            " 4   Cylinders                         7385 non-null   int64   \n",
            " 5   Transmission                      7385 non-null   category\n",
            " 6   Fuel Type                         7385 non-null   category\n",
            " 7   Fuel Consumption City (L/100 km)  7385 non-null   float64 \n",
            " 8   Fuel Consumption Hwy (L/100 km)   7385 non-null   float64 \n",
            " 9   Fuel Consumption Comb (L/100 km)  7385 non-null   float64 \n",
            " 10  Fuel Consumption Comb (mpg)       7385 non-null   int64   \n",
            " 11  CO2 Emissions(g/km)               7385 non-null   int64   \n",
            "dtypes: category(5), float64(4), int64(3)\n",
            "memory usage: 531.3 KB\n",
            "None\n"
          ]
        }
      ]
    },
    {
      "cell_type": "code",
      "source": [
        "from sklearn.preprocessing import MinMaxScaler\n",
        "# Initialize Min-Max Scaler\n",
        "scaler = MinMaxScaler()\n",
        "\n",
        "# Numeric columns to normalize\n",
        "columns_to_normalize = [\n",
        "    \"Engine Size(L)\", \"Cylinders\", \"Fuel Consumption City (L/100 km)\",\n",
        "    \"Fuel Consumption Hwy (L/100 km)\", \"Fuel Consumption Comb (L/100 km)\",\n",
        "    \"Fuel Consumption Comb (mpg)\", \"CO2 Emissions(g/km)\"\n",
        "]\n",
        "\n",
        "# Apply normalization to each column\n",
        "for col in columns_to_normalize:\n",
        "    df[col] = scaler.fit_transform(df[[col]])"
      ],
      "metadata": {
        "id": "jIsyR8c4fHoz"
      },
      "execution_count": 9,
      "outputs": []
    },
    {
      "cell_type": "code",
      "source": [
        "print(df.head())"
      ],
      "metadata": {
        "colab": {
          "base_uri": "https://localhost:8080/"
        },
        "id": "xoReHW47g9mq",
        "outputId": "46282598-7f8a-41d3-970b-6960ac03bb7d"
      },
      "execution_count": 10,
      "outputs": [
        {
          "output_type": "stream",
          "name": "stdout",
          "text": [
            "    Make       Model Vehicle Class  Engine Size(L)  Cylinders Transmission  \\\n",
            "0  ACURA         ILX       COMPACT        0.146667   0.076923          AS5   \n",
            "1  ACURA         ILX       COMPACT        0.200000   0.076923           M6   \n",
            "2  ACURA  ILX HYBRID       COMPACT        0.080000   0.076923          AV7   \n",
            "3  ACURA     MDX 4WD   SUV - SMALL        0.346667   0.230769          AS6   \n",
            "4  ACURA     RDX AWD   SUV - SMALL        0.346667   0.230769          AS6   \n",
            "\n",
            "  Fuel Type  Fuel Consumption City (L/100 km)  \\\n",
            "0         Z                          0.215909   \n",
            "1         Z                          0.265152   \n",
            "2         Z                          0.068182   \n",
            "3         Z                          0.321970   \n",
            "4         Z                          0.299242   \n",
            "\n",
            "   Fuel Consumption Hwy (L/100 km)  Fuel Consumption Comb (L/100 km)  \\\n",
            "0                         0.162651                          0.200000   \n",
            "1                         0.222892                          0.250000   \n",
            "2                         0.108434                          0.081818   \n",
            "3                         0.307229                          0.318182   \n",
            "4                         0.283133                          0.295455   \n",
            "\n",
            "   Fuel Consumption Comb (mpg)  CO2 Emissions(g/km)  \n",
            "0                     0.379310             0.234742  \n",
            "1                     0.310345             0.293427  \n",
            "2                     0.637931             0.093897  \n",
            "3                     0.241379             0.373239  \n",
            "4                     0.275862             0.347418  \n"
          ]
        }
      ]
    },
    {
      "cell_type": "code",
      "source": [
        "from sklearn.model_selection import train_test_split\n",
        "\n",
        "# Split the dataset into 80% training and 20% testing\n",
        "train_data, test_data = train_test_split(df, test_size=0.2, random_state=42)\n",
        "\n",
        "# Save the training and testing datasets\n",
        "train_data.to_csv(\"train_data.csv\", index=False)\n",
        "test_data.to_csv(\"test_data.csv\", index=False)"
      ],
      "metadata": {
        "id": "f0D0qD48hhLe"
      },
      "execution_count": 11,
      "outputs": []
    }
  ]
}
